{
 "metadata": {
  "kernelspec": {
   "display_name": "Streamlit Notebook",
   "name": "streamlit"
  }
 },
 "nbformat_minor": 5,
 "nbformat": 4,
 "cells": [
  {
   "cell_type": "markdown",
   "id": "f5c43a08-4105-4083-9ec4-6b6275d31f67",
   "metadata": {
    "name": "_Intro",
    "collapsed": false
   },
   "source": "# ⚽ **HOL: Eredivisie Prediction** 🥇\n### Notebook - Prediction Time! - 4/4\n\n---\n\n### What We'll Do:\n1. **Data Ingestion**: Fetch Eredivisie data from the GitHub repository.\n2. **Data Transformation**: Utilize Snowpark DataFrames for data preparation and analysis.\n3. **Model Training**: Train model and store it in the Snowflake Model Registry\n4. -> **Prediction**: Predict who is going to win Eredivisie 2024/2025\n\n![image](https://i.makeagif.com/media/1-14-2021/VPPRyU.gif)"
  },
  {
   "cell_type": "markdown",
   "id": "7d34023f-b6e8-44ee-aa39-f52964b40574",
   "metadata": {
    "name": "Setup",
    "collapsed": false
   },
   "source": "### Setup\n\nMake sure following packages are imported\n- `snowflake-ml-python`\n- `snowflake-snowpark-python`"
  },
  {
   "cell_type": "markdown",
   "id": "d584e70e-5564-471d-9320-b7c1312df24e",
   "metadata": {
    "name": "_Step_4_Inference",
    "collapsed": false
   },
   "source": "## Step 4: Inference\n\n### 1. Show Fixture Data\n\n- **Objective:** Provide an overview of the fixture data for the Eredivisie 2024/2025\n\n### 2. Prep Data for Prediction\n\n- **Objective:** Prepare the data for predictive modeling.\n\n- **Data Preprocessing**: Clean and transform the fixture data as necessary for prediction tasks.\n\n### 3. Predict Results\n\n- **Objective:** Utilize predictive models to forecast match outcomes.\n\n### 4. Show Results\n\n- **Objective:** Present the predicted results of the Eredivisie 2024/2025 matches.\n\n- **Display Predicted Outcomes**: Showcase the forecasted results of each match and final ranking."
  },
  {
   "cell_type": "code",
   "id": "84f2c727-af68-4511-899c-0917f6edcf55",
   "metadata": {
    "language": "python",
    "name": "Import_Libs",
    "collapsed": false,
    "codeCollapsed": false
   },
   "outputs": [],
   "source": "import snowflake.snowpark\nfrom snowflake.snowpark.session import Session\nfrom snowflake.snowpark import Window\nfrom snowflake.snowpark import functions as F\nfrom snowflake.snowpark.functions import udf, udtf\nfrom snowflake.snowpark.types import IntegerType, FloatType, StringType, StructField, StructType, DateType\n    \nimport pandas as pd\nimport numpy as np\n\nimport streamlit as st\n\nimport warnings\nwarnings.filterwarnings('ignore')",
   "execution_count": null
  },
  {
   "cell_type": "code",
   "id": "9908f3ab-97f1-4610-8674-8655b80862d3",
   "metadata": {
    "language": "python",
    "name": "Function_Get_Active_Session",
    "collapsed": false,
    "codeCollapsed": false
   },
   "outputs": [],
   "source": "from snowflake.snowpark.context import get_active_session\nsession = get_active_session()\nuser_name = session.sql('select current_user()').collect()[0][0]",
   "execution_count": null
  },
  {
   "cell_type": "code",
   "id": "77ef219a-8099-4619-bbd6-27982f340241",
   "metadata": {
    "language": "python",
    "name": "Fixture_Prep_Data",
    "collapsed": false,
    "codeCollapsed": false
   },
   "outputs": [],
   "source": "# Enrich Fixture with all parameters for model inference.\ndf_features = session.table('eredivisie_features')\nst.dataframe(df_features.limit(50))",
   "execution_count": null
  },
  {
   "cell_type": "code",
   "id": "1c52383e-7125-48ef-97ee-851b897cf789",
   "metadata": {
    "language": "python",
    "name": "Feature_Import",
    "collapsed": false
   },
   "outputs": [],
   "source": "# lets make a copy of the fixtures, one with original data and then one we'll update as we go along\ndf_fixture_copy = session.table('eredivisie_fixture')\ndf_fixture_copy.write.save_as_table(f'fixture_{user_name}',mode='overwrite')\n\nst.dataframe(df_fixture_copy.limit(50))",
   "execution_count": null
  },
  {
   "cell_type": "code",
   "id": "7f80032f-b280-48b2-8002-c8e439d20c8f",
   "metadata": {
    "language": "python",
    "name": "Combine_Data",
    "collapsed": false
   },
   "outputs": [],
   "source": "# Convert DATE columns to date type if they're not already\ndf_fixture_copy = df_fixture_copy.with_column(\"DATE\", F.to_date(F.col(\"DATE\"), \"DD/MM/YYYY HH24:MI\"))\ndf_features_new = df_features.with_column(\"DATE\", F.to_date(df_features['DATE']))\n\n# Perform the ASOF join\nresult_df = df_fixture_copy.join(\n    df_features_new,\n    on=(df_fixture_copy[\"FIX_HOMETEAM\"] == df_features_new[\"HOMETEAM\"]),\n    how=\"asof\",\n    match_condition=(df_fixture_copy[\"DATE\"] >= df_features_new[\"DATE\"])\n).select(\n    df_fixture_copy[\"MATCHNUMBER\"],\n    df_fixture_copy[\"ROUNDNUMBER\"],\n    df_fixture_copy[\"DATE\"].as_(\"DATE\"),\n    df_fixture_copy[\"LOCATION\"],\n    df_fixture_copy[\"FIX_HOMETEAM\"],\n    df_fixture_copy[\"FIX_AWAYTEAM\"],\n    df_fixture_copy[\"RESULT\"],\n    # Specified columns from df_features\n    df_features[\"HOME_WIN_PERCENTAGE_LAST34\"],\n    df_features[\"HOME_GOALS_FOR_LAST34\"],\n    df_features[\"HOME_GOALS_AGAINST_LAST34\"])\ndf_features_new = df_features_new.withColumn(\"DATE\", F.to_date(F.col(\"DATE\")))\n\n# Perform the ASOF join\nresult_df_new = result_df.join(\n    df_features_new,\n    on=(result_df[\"FIX_HOMETEAM\"] \n        == df_features_new[\"HOMETEAM\"]) & (result_df[\"FIX_AWAYTEAM\"] == df_features_new[\"AWAYTEAM\"]),\n    how=\"asof\",\n    match_condition=(result_df[\"DATE\"] >= df_features_new[\"DATE\"])\n).select(\n    result_df[\"MATCHNUMBER\"],\n    result_df[\"ROUNDNUMBER\"],\n    result_df[\"DATE\"].as_(\"DATE\"),\n    result_df[\"LOCATION\"],\n    result_df[\"FIX_HOMETEAM\"],\n    result_df[\"FIX_AWAYTEAM\"],\n    result_df[\"RESULT\"],\n    df_features_new[\"HOME_WINS_LAST34\"].as_(\"HOME_WINS_LAST34\"),\n    df_features_new[\"HOME_GOALS_AGAINST_LAST34\"].as_(\"HOME_GOALS_AGAINST_LAST34\"),\n    df_features_new[\"HOME_WIN_PERCENTAGE_LAST34\"].as_(\"HOME_WIN_PERCENTAGE_LAST34\"),\n    df_features_new[\"H2H_HOME_LOSSES_LAST10\"],\n    df_features_new[\"H2H_HOME_WINS_LAST10\"])\n\n\nprint(f\"total row before joins: {df_fixture_copy.count()}\")\nprint(f\"total row after joins: {result_df_new.count()}\")\n#st.dataframe(result_df_new.filter(F.col(\"HOME_WIN_PERCENTAGE_LAST5\").isNull()))\n#st.dataframe(result_df_new.filter(F.col(\"H2H_HOME_WINS_LAST5\").isNull())) \n#There are some match ups that has never had this H2H\n#df_features_new.filter((F.col(\"HOMETEAM\") == \"Almere City FC\") & (F.col(\"AWAYTEAM\") == \"FC Groningen\")).show()",
   "execution_count": null
  },
  {
   "cell_type": "code",
   "id": "406b07ea-a9bd-46f9-a0b4-d31cb56757a4",
   "metadata": {
    "language": "python",
    "name": "Matches_Predict",
    "collapsed": false,
    "codeCollapsed": false
   },
   "outputs": [],
   "source": "# Run predictions on all the season games\nfrom snowflake.ml.registry import Registry\nfrom snowflake.snowpark.functions import col, when, greatest\nfrom snowflake.snowpark.types import IntegerType, DecimalType, DoubleType, LongType\n\nreg = Registry(session=session)\n\nmv = reg.get_model(\"EREDIVISIE_PREDICT\").default\n\n\n# Fill missing values if needed (warnings are not impacting the execution, \n# we might adjust functions to fillna only for used features\n# Identify columns that are of IntegerType\nnumeric_columns = [\n    col.name for col in result_df_new.schema \n    if isinstance(col.datatype, (IntegerType, DecimalType, DoubleType, LongType))\n]\n# Fill NaN values only in integer columns\nresult_df_filled = result_df_new.fillna(-1, subset=numeric_columns)\nprediction = mv.run(result_df_filled, function_name=\"predict_proba\")\n#prediction = prediction.with_column('output_game_outcome',F.iff(F.col('predict_proba_1.0') > F.col('predict_proba_2'),1,2))\nprediction = prediction.with_column(\n    'RESULT', \n    when(greatest(col('PREDICT_PROBA_0'), col('PREDICT_PROBA_1'), col('PREDICT_PROBA_2')) == col('PREDICT_PROBA_1'), 'home')\n    .when(greatest(col('PREDICT_PROBA_0'), col('PREDICT_PROBA_1'), col('PREDICT_PROBA_2')) == col('PREDICT_PROBA_2'), 'away')\n    .otherwise('draw')\n)\n\nprediction.write.save_as_table('eredivisie_predictions',mode='overwrite')\n\nst.dataframe(session.table('eredivisie_predictions'))",
   "execution_count": null
  },
  {
   "cell_type": "code",
   "id": "6b040302-9fd8-41f7-9ebb-975f3e7096f3",
   "metadata": {
    "language": "python",
    "name": "Eredivisie_Show_Results",
    "collapsed": false,
    "codeCollapsed": false
   },
   "outputs": [],
   "source": "# It's time to see who is gonna win the Eredivisie!\n# Lets take the output of our predictions and build up the final ranking of next season\n\nfrom snowflake.snowpark.functions import col, when, greatest\n\n# Load the predictions table\npredictions_df = session.table('eredivisie_predictions')\n\n# Assign points based on the result\n# Assign points, wins, and draws based on the result\npredictions_df = predictions_df.with_column(\n    'HOME_POINTS', \n    when(col('RESULT') == 'home', 3).when(col('RESULT') == 'draw', 1).otherwise(0)\n).with_column(\n    'AWAY_POINTS', \n    when(col('RESULT') == 'away', 3).when(col('RESULT') == 'draw', 1).otherwise(0)\n).with_column(\n    'HOME_WINS', \n    when(col('RESULT') == 'home', 1).otherwise(0)\n).with_column(\n    'AWAY_WINS', \n    when(col('RESULT') == 'away', 1).otherwise(0)\n).with_column(\n    'HOME_DRAWS', \n    when(col('RESULT') == 'draw', 1).otherwise(0)\n).with_column(\n    'AWAY_DRAWS', \n    when(col('RESULT') == 'draw', 1).otherwise(0)\n)\n\n# Group by home and away teams to sum points and count wins, draws\nhome_ranking_df = predictions_df.group_by('FIX_HOMETEAM').agg({\n    'HOME_POINTS': 'sum',\n    'HOME_WINS': 'sum',\n    'HOME_DRAWS': 'sum'\n}).with_column_renamed('SUM(HOME_POINTS)', 'TOTAL_POINTS').with_column_renamed('SUM(HOME_WINS)', 'WINS').with_column_renamed('SUM(HOME_DRAWS)', 'DRAWS').with_column_renamed('FIX_HOMETEAM', 'TEAM')\n\naway_ranking_df = predictions_df.group_by('FIX_AWAYTEAM').agg({\n    'AWAY_POINTS': 'sum',\n    'AWAY_WINS': 'sum',\n    'AWAY_DRAWS': 'sum'\n}).with_column_renamed('SUM(AWAY_POINTS)', 'TOTAL_POINTS').with_column_renamed('SUM(AWAY_WINS)', 'WINS').with_column_renamed('SUM(AWAY_DRAWS)', 'DRAWS').with_column_renamed('FIX_AWAYTEAM', 'TEAM')\n\n# Combine home and away rankings\nranking_df = home_ranking_df.union_all(away_ranking_df)\n\n# Final ranking by summing points, wins, and draws\nfinal_ranking_df = ranking_df.group_by('TEAM').agg({\n    'TOTAL_POINTS': 'sum',\n    'WINS': 'sum',\n    'DRAWS': 'sum'\n}).with_column_renamed('SUM(TOTAL_POINTS)', 'FINAL_POINTS').with_column_renamed('SUM(WINS)', 'TOTAL_WINS').with_column_renamed('SUM(DRAWS)', 'TOTAL_DRAWS')\n\n# Calculate losses: Total matches - (wins + draws)\ntotal_matches = 34  # Total matches based on predictions\nfinal_ranking_df = final_ranking_df.with_column(\n    'LOSSES', \n    (total_matches - col('TOTAL_WINS') - col('TOTAL_DRAWS'))\n)\n\n# Sort the teams by their final points and wins\nfinal_ranking_df = final_ranking_df.sort(col('FINAL_POINTS').desc(), col('TOTAL_WINS').desc())\n\n# Show the final ranking\nst.title(\"The winner is...\")\nst.dataframe(final_ranking_df)",
   "execution_count": null
  },
  {
   "cell_type": "markdown",
   "id": "3e987c24-99c1-4d90-b775-792039289bd9",
   "metadata": {
    "name": "Winner_Flag",
    "collapsed": false
   },
   "source": "![image](https://blogger.googleusercontent.com/img/b/R29vZ2xl/AVvXsEgnz4WWG3t82n2IWLd8nKKQtM2FhWDbQwVlopTO7YG8WahLDoX8AtnE6reEwCkxdVkAQ8t5dtzQ_znX1sx9bru6U0sjLmnXIuv6hqz_aUPEeYwgJs7kDRL-hzRmBXN8NJjUyFL9wxIr2E4/s0-rw/PSV_Eindhoven_flag.gif)"
  },
  {
   "cell_type": "markdown",
   "id": "84357976-1c3d-4f41-b725-b4a23917b6bd",
   "metadata": {
    "name": "_Summary",
    "collapsed": false
   },
   "source": "# Final Summary\n\nLet's recap what we covered:\n\n1) Ingested our raw data\n2) Performed various steps of data transformation using Snowpark\n3) Used **Snowpark ML** to run **Hyperparameter Tuning**, **Model Training** and stored our model in the **Snowflake Model Registry**\n4) Registered various Python UDTFs and Stored Procedures for code reusability, to streamline our inference pipeline\n5) Used our model to predict all Eredivisie matches and build forecasted final ranking."
  },
  {
   "cell_type": "markdown",
   "id": "0ee92413-045e-4fca-905d-3142441faeb3",
   "metadata": {
    "name": "_Using_Cortex",
    "collapsed": false
   },
   "source": "# What does Cortex say? ⚽\n\nThis isn't the right use of LLMs but for fun, let's see what [Cortex](https://docs.snowflake.com/user-guide/snowflake-cortex/llm-functions) has to say about the Eredivisie 2024/2025 outcome and compare to our prediction.\n\n#### Note \n_The following models are only [supported](https://docs.snowflake.com/user-guide/snowflake-cortex/llm-functions#availability) in certain CSP regions at present so you will need to run this in a compatible setup._"
  },
  {
   "cell_type": "code",
   "id": "20f7a2cb-43c4-412f-b299-3f9dad9b5509",
   "metadata": {
    "language": "python",
    "name": "Cortex_Multi_Prediction",
    "collapsed": false
   },
   "outputs": [],
   "source": "prompt = \"\"\"\n    Please respond to the following type of question with a single word along with the country flag emoji, naming a country. \n    The answer should be consider a classification response, for example:\n\n    Question: Based on their performances up until 2022, which country was most likely to win the Serie A 2023?\n    Response:Intern 🏴󠁧󠁢󠁥󠁮󠁧󠁿\n\n    Question: Based on their performances up until 2020, which country was most likely to win the Ligue 1 2023?\n    Response:PSG 🇫🇷\n\n    Now, based on historical performances and achievements in international and club football up to 2024,\n    factoring in international players, and the location of the event, which club is most likely to win Eredivisie 2024/2025?\n    \n    Rules:\n    1) Do not include any additional text or additional spaces before or after the country name. \n    2) Please strip out any whitespace before and after the answer.\n\"\"\"\n\narctic = session.sql(f\"select snowflake.cortex.complete(\\'snowflake-arctic\\','{prompt}')\").collect()[0][0]\nllama_3_8b = session.sql(f\"select snowflake.cortex.complete(\\'llama3-70b\\','{prompt}')\").collect()[0][0]\nllama_3_70b = session.sql(f\"select snowflake.cortex.complete(\\'llama3-70b\\','{prompt}')\").collect()[0][0]\nmistral_large = session.sql(f\"select snowflake.cortex.complete(\\'mistral-large\\','{prompt}')\").collect()[0][0]\nmixtral_8_7b = session.sql(f\"select snowflake.cortex.complete(\\'mixtral-8x7b\\','{prompt}')\").collect()[0][0]\nmixtral_8_7b = session.sql(f\"select snowflake.cortex.complete(\\'mixtral-8x7b\\','{prompt}')\").collect()[0][0]\nreka_flash = session.sql(f\"select snowflake.cortex.complete(\\'reka-flash\\','{prompt}')\").collect()[0][0]\n\ndf = session.create_dataframe(\n    [\n        ('snowflake-arctic', arctic.lstrip().rstrip()),\n        ('llama3-8b', llama_3_8b.lstrip().rstrip()), \n        ('llama3-70b', llama_3_70b.lstrip().rstrip()),\n        ('mistral-large', mistral_large.lstrip().rstrip()), \n        ('mixtral-8x7b', mixtral_8_7b.lstrip().rstrip()),\n        ('reka-flash', reka_flash.lstrip().rstrip()),\n    ], \n    schema=[\"model\", \"prediction\"])\n\ndf",
   "execution_count": null
  },
  {
   "cell_type": "markdown",
   "id": "574a7bc2-6c4c-4d50-ada7-dc330d4a46cc",
   "metadata": {
    "name": "_Using_Cortex_And_Streamlit_Interactive",
    "collapsed": false
   },
   "source": "# Getting Interactive ⚽\n\nYou can also include Streamlit Controls to make your notebook interactive:"
  },
  {
   "cell_type": "code",
   "id": "156dd4db-027a-43bf-b391-650731905260",
   "metadata": {
    "language": "python",
    "name": "Cortex_Answer",
    "collapsed": false,
    "codeCollapsed": false
   },
   "outputs": [],
   "source": "prompt = \"\"\"Based on historical performances and achievements in international and club football up to 2024, factoring in international players, and the location of the event, which club is most likely to win Eredivisie 2024/2025? Include historical references where possible, and call out specific players.\"\"\"\n\n\nst.subheader(\"Inputs:\")\n\nwith st.container():\n    with st.expander(\"Edit prompt and select LLM\", expanded=True):\n        \n        new_prompt = st.text_area(label='Prompt:',value=prompt,height=100, label_visibility='collapsed')\n\n        new_prompt += '. Answer in the style of a socccer journalist.'\n        \n        left_col,right_col = st.columns(2)\n        \n        with left_col:\n            model_select = st.selectbox(\n                'Select your Cortex Model:',\n                ('snowflake-arctic','llama3-8b','llama3-70b','mistral-large','mixtral-8x7b','reka-flash'),\n                label_visibility='collapsed'\n            )\n        \n            with right_col:\n                button = st.button('⚽ Predict! ⚽',type=\"primary\")\n\nwith st.container():\n    if button:\n        sql = f\"select snowflake.cortex.complete('{model_select}','{new_prompt}')\"\n\n        with st.spinner(\"In progress...\"):\n            response = session.sql(sql).collect()[0][0]\n            st.subheader(\"Response:\")\n            st.write(response)",
   "execution_count": null
  }
 ]
}