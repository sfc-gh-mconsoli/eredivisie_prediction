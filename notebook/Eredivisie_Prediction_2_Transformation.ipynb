{
 "metadata": {
  "kernelspec": {
   "display_name": "Streamlit Notebook",
   "name": "streamlit"
  }
 },
 "nbformat_minor": 5,
 "nbformat": 4,
 "cells": [
  {
   "cell_type": "markdown",
   "id": "554d3291-1118-4c8c-a16a-8c79b61453de",
   "metadata": {
    "name": "_Intro",
    "collapsed": false
   },
   "source": "# ⚽ **HOL: Eredivisie Prediction** 🥇\n### Notebook - Data Transformation - 2/4\n\n---\n\n### What We'll Do:\n1. **Data Ingestion**: Fetch Eredivisie data from the GitHub repository.\n2. -> **Data Transformation**: Utilize Snowpark DataFrames for data preparation and analysis.\n3. **Model Training**: Train model and store it in the Snowflake Model Registry\n4. **Prediction**: Predict who is going to win Eredivisie 2024/2025\n\n\n![image](https://i.gifer.com/embedded/download/BiCu.gif)\n\n"
  },
  {
   "cell_type": "markdown",
   "id": "52ee40fb-8195-42fc-874d-44ae66aa1eb3",
   "metadata": {
    "name": "_Step_2_Data_Transformation",
    "collapsed": false
   },
   "source": "## Step 2: Data Transformation\n---\n\nIn the next cells, we'll start working on Data Engineering Tasks, joining and normalizing the data to extract meaningful features and leveraging Snowpark Dataframe for the data manipulation.\n\n\nIn nutshell, we'll follow perform: \n\n- Data Cleaning\n- Data Transformation\n- Feature Engineering\n- Preparing Feature Table\n\nLet's get it done! \n\n### Setup\n\nBefore using this notebook, ensure that you have imported the following packages by click on the top right \"Packages\" button and restart the notebook:\n\n- `snowflake-snowpark-python`\n"
  },
  {
   "cell_type": "code",
   "id": "3775908f-ca36-4846-8f38-5adca39217f2",
   "metadata": {
    "language": "python",
    "name": "Import_Libs",
    "collapsed": false
   },
   "source": "# Import python packages\nimport streamlit as st\nfrom snowflake.snowpark.functions import col, to_date, datediff, lag, when, lit, sum as sum_, concat, count, rank, countDistinct, year, when, row_number, datediff, max as max_\nfrom snowflake.snowpark.window import Window\nimport snowflake.snowpark.functions as F\nimport snowflake.snowpark as snowpark\n\nfrom snowflake.snowpark.window import Window\n# We can also use Snowpark for our analyses!\nfrom snowflake.snowpark.context import get_active_session\nsession = get_active_session()\n",
   "execution_count": null,
   "outputs": []
  },
  {
   "cell_type": "code",
   "id": "8d50cbf4-0c8d-4950-86cb-114990437ac9",
   "metadata": {
    "language": "python",
    "name": "Settings",
    "collapsed": false
   },
   "source": "snowflake_environment = session.sql('select current_user(), current_version()').collect()\nfrom snowflake.snowpark.version import VERSION\nsnowpark_version = VERSION\n\n# Current Environment Details\nprint('User                        : {}'.format(snowflake_environment[0][0]))\nprint('Role                        : {}'.format(session.get_current_role()))\nprint('Database                    : {}'.format(session.get_current_database()))\nprint('Schema                      : {}'.format(session.get_current_schema()))\nprint('Warehouse                   : {}'.format(session.get_current_warehouse()))\nprint('Snowflake version           : {}'.format(snowflake_environment[0][1]))\nprint('Snowpark for Python version : {}.{}.{}'.format(snowpark_version[0],snowpark_version[1],snowpark_version[2]))",
   "execution_count": null,
   "outputs": []
  },
  {
   "cell_type": "markdown",
   "id": "ee5aae6a-4982-45f2-8f4b-54b999537896",
   "metadata": {
    "name": "_Data_Cleaning_Enrichment",
    "collapsed": false
   },
   "source": "### Data Cleaning, Enrichment & Normalization\n\nWe'll be fixing the following issues in the dataset:\n- Team Names mismatch\n- Calculating season\n- Trimming Values"
  },
  {
   "cell_type": "code",
   "id": "c695373e-ac74-4b62-a1f1-08206cbd5c81",
   "metadata": {
    "language": "python",
    "name": "Read_Data_From_Tables",
    "collapsed": false
   },
   "source": "# Get History tables\nEREDIVISIE_HISTORY_df = session.table('EREDIVISIE_PREDICTION.PUBLIC.EREDIVISIE_HISTORY')",
   "execution_count": null,
   "outputs": []
  },
  {
   "cell_type": "code",
   "id": "34b9e255-1b28-4ee8-85c4-9ff1693c47f7",
   "metadata": {
    "language": "python",
    "name": "Data_Normalization_Team_Names",
    "collapsed": false
   },
   "outputs": [],
   "source": "def check_team_name_uniqueness(df):\n    # Step 1: Analyze teams\n\n    home_teams = df.select(\"HOMETEAM\").distinct().sort(\"HOMETEAM\")\n    away_teams = df.select(\"AWAYTEAM\").distinct().sort(\"AWAYTEAM\")\n    \n    #print(\"Home teams:\")\n    #home_teams.show(50)\n    st.text(f\"Number of unique home teams: {home_teams.count()}\")\n    #print(\"\\nAway teams:\")\n    #away_teams.show(50)\n    st.text(f\"Number of unique away teams: {away_teams.count()}\")\n    \n    all_teams = home_teams.union(away_teams).distinct()\n    #print(\"\\nAll unique teams:\")\n    st.text(f\"Number of all unique teams: {all_teams.count()}\")\n    st.dataframe(all_teams.sort(col(\"HOMETEAM\")))\n    \ncheck_team_name_uniqueness(EREDIVISIE_HISTORY_df)",
   "execution_count": null
  },
  {
   "cell_type": "code",
   "id": "32ed9314-0ad6-4591-90c4-1b8520384139",
   "metadata": {
    "language": "python",
    "name": "Data_Enrichment_Add_Season",
    "collapsed": false,
    "codeCollapsed": false
   },
   "outputs": [],
   "source": "def add_season_columns(df):\n    # Convert DATE column to date type\n    df = df.withColumn(\"DATE\", to_date(col(\"DATE\"), \"dd/MM/yyyy\"))\n    \n    # Create a window specification sorted by date\n    window_spec = Window.orderBy(\"DATE\")\n    \n    # Calculate the difference in days from the previous row\n    df = df.withColumn(\"days_diff\", datediff(\"day\", lag(\"DATE\").over(window_spec), col(\"DATE\")))\n    \n    # Determine the season start (1 for first row, 1 when diff > 50 days)\n    df = df.withColumn(\"season_start\", \n                       when(col(\"days_diff\").isNull() | (col(\"days_diff\") > 50), 1)\n                       .otherwise(0))\n    \n    # Calculate the cumulative sum of season_start to get the season number\n    df = df.withColumn(\"season_number\", sum_(col(\"season_start\")).over(window_spec))\n    \n    # Create the season column (e.g., \"1993-1994\")\n    df = df.withColumn(\"season\", \n                       concat(\n                           (lit(1993) + col(\"season_number\") - 1).cast(\"string\"),\n                           lit(\"-\"),\n                           (lit(1994) + col(\"season_number\") - 1).cast(\"string\")\n                       ))\n    \n    # Drop intermediate columns\n    df = df.drop(\"days_diff\", \"season_start\", \"season_number\")\n    \n    return df\n\n# Apply the function to your dataframe\nEREDIVISIE_HISTORY_df = add_season_columns(EREDIVISIE_HISTORY_df)\n\n# Sort df by date field\nEREDIVISIE_HISTORY_df = EREDIVISIE_HISTORY_df.sort(col(\"DATE\").asc())\n\n# Show the result\nst.dataframe(EREDIVISIE_HISTORY_df)",
   "execution_count": null
  },
  {
   "cell_type": "markdown",
   "id": "66094828-f8aa-4740-9607-33786ff254fc",
   "metadata": {
    "name": "_Feature_Engineering",
    "collapsed": false
   },
   "source": "### Feature Engineering\n\nWe'll be now calculating a set of features and consolidate match parameters in a unique table.\nFeatures calculated will be about:\n- Head to Head Matches\n- Rolling Stats\n- Average Metrics on Previous Matches"
  },
  {
   "cell_type": "code",
   "id": "a10e43e9-764b-4404-a145-b1ca6eb1f727",
   "metadata": {
    "language": "python",
    "name": "Features_Rolling_Team_Stats",
    "collapsed": false
   },
   "outputs": [],
   "source": "def calculate_rolling_team_stats(df, num_matches=34):\n    # Combine home and away games into a single dataframe\n    home_games = df.select(\n        col(\"SEASON\"),\n        col(\"DATE\"),\n        col(\"HOMETEAM\").alias(\"TEAM\"),\n        col(\"FTHG\").alias(\"GOALS_FOR\"),\n        col(\"FTAG\").alias(\"GOALS_AGAINST\"),\n        col(\"FTR\"),\n        lit(\"H\").alias(\"HOME_AWAY\")\n    )\n    away_games = df.select(\n        col(\"SEASON\"),\n        col(\"DATE\"),\n        col(\"AWAYTEAM\").alias(\"TEAM\"),\n        col(\"FTAG\").alias(\"GOALS_FOR\"),\n        col(\"FTHG\").alias(\"GOALS_AGAINST\"),\n        col(\"FTR\"),\n        lit(\"A\").alias(\"HOME_AWAY\")\n    )\n    \n    all_games = home_games.union_all(away_games)\n    \n    # Create a window function to order matches by date for each team\n    window = Window.partition_by(\"TEAM\").order_by(\"DATE\")\n    \n    # Calculate match results\n    all_games = all_games.with_columns([\n        \"WIN\", \"LOSS\", \"DRAW\"\n    ], [\n        when((col(\"HOME_AWAY\") == \"H\") & (col(\"FTR\") == \"H\"), 1)\n        .when((col(\"HOME_AWAY\") == \"A\") & (col(\"FTR\") == \"A\"), 1)\n        .otherwise(0),\n        \n        when((col(\"HOME_AWAY\") == \"H\") & (col(\"FTR\") == \"A\"), 1)\n        .when((col(\"HOME_AWAY\") == \"A\") & (col(\"FTR\") == \"H\"), 1)\n        .otherwise(0),\n        \n        when(col(\"FTR\") == \"D\", 1).otherwise(0)\n    ])\n    \n    # Calculate rolling statistics\n    rolling_stats = all_games.with_columns([\n        f\"WINS_LAST{num_matches}\", \n        f\"LOSSES_LAST{num_matches}\", \n        f\"DRAWS_LAST{num_matches}\", \n        f\"GOALS_FOR_LAST{num_matches}\", \n        f\"GOALS_AGAINST_LAST{num_matches}\"\n    ], [\n        sum_(\"WIN\").over(window.rows_between(-(num_matches-1), 0)),\n        sum_(\"LOSS\").over(window.rows_between(-(num_matches-1), 0)),\n        sum_(\"DRAW\").over(window.rows_between(-(num_matches-1), 0)),\n        sum_(\"GOALS_FOR\").over(window.rows_between(-(num_matches-1), 0)),\n        sum_(\"GOALS_AGAINST\").over(window.rows_between(-(num_matches-1), 0))\n    ])\n    \n    # Calculate win percentage\n    rolling_stats = rolling_stats.with_column(\n        f\"WIN_PERCENTAGE_LAST{num_matches}\",\n        col(f\"WINS_LAST{num_matches}\") / (col(f\"WINS_LAST{num_matches}\") + col(f\"LOSSES_LAST{num_matches}\") + col(f\"DRAWS_LAST{num_matches}\"))\n    )\n    \n    return rolling_stats\n\n# Calculate rolling stats for last 34 matches\nrolling_stats_34 = calculate_rolling_team_stats(EREDIVISIE_HISTORY_df, 34)\n# Show the results\nst.text(\"\\n--- Rolling Team Statistics for Last 34 Matches ---\")\nst.dataframe(rolling_stats_34.sort([\"DATE\", \"TEAM\"], ascending=[False, True]).limit(50))\n\n# If you want to calculate for last 68 matches as well\nst.text(\"\\n--- Rolling Team Statistics for Last 68 Matches ---\")\nrolling_stats_68 = calculate_rolling_team_stats(EREDIVISIE_HISTORY_df, 68)\nst.dataframe(rolling_stats_68.sort([\"DATE\", \"TEAM\"], ascending=[False, True]).limit(50))\n",
   "execution_count": null
  },
  {
   "cell_type": "code",
   "id": "175875e8-8b74-41db-ab3b-0900ecadeb03",
   "metadata": {
    "language": "python",
    "name": "Features_Combined_Past_Matches_Rolling",
    "collapsed": false
   },
   "outputs": [],
   "source": "# Combine the results into 1 table\ncombined_rolling_stats = rolling_stats_34.join(\n    rolling_stats_68,\n    (rolling_stats_34[\"TEAM\"] == rolling_stats_68[\"TEAM\"]) & (rolling_stats_34[\"DATE\"] == rolling_stats_68[\"DATE\"]), \n    \"left\").select(\n    rolling_stats_34[\"DATE\"].alias(\"DATE\"),\n    rolling_stats_34[\"SEASON\"].alias(\"SEASON\"),\n    rolling_stats_34[\"TEAM\"].alias(\"HOMETEAM\"),\n    rolling_stats_34[\"WINS_LAST34\"].alias(\"HOME_WINS_LAST34\"),\n    rolling_stats_34[\"LOSSES_LAST34\"].alias(\"HOME_LOSSES_LAST34\"),\n    rolling_stats_34[\"DRAWS_LAST34\"].alias(\"HOME_DRAWS_LAST34\"),\n    rolling_stats_34[\"GOALS_FOR_LAST34\"].alias(\"HOME_GOALS_FOR_LAST34\"),\n    rolling_stats_34[\"GOALS_AGAINST_LAST34\"].alias(\"HOME_GOALS_AGAINST_LAST34\"),\n    rolling_stats_34[\"WIN_PERCENTAGE_LAST34\"].alias(\"HOME_WIN_PERCENTAGE_LAST34\"),\n    rolling_stats_68[\"WINS_LAST68\"].alias(\"HOME_WINS_LAST68\"),\n    rolling_stats_68[\"LOSSES_LAST68\"].alias(\"HOME_LOSSES_LAST68\"),\n    rolling_stats_68[\"DRAWS_LAST68\"].alias(\"HOME_DRAWS_LAST68\"),\n    rolling_stats_68[\"GOALS_FOR_LAST68\"].alias(\"HOME_GOALS_FOR_LAST68\"),\n    rolling_stats_68[\"GOALS_AGAINST_LAST68\"].alias(\"HOME_GOALS_AGAINST_LAST68\"),\n    rolling_stats_68[\"WIN_PERCENTAGE_LAST68\"].alias(\"HOME_WIN_PERCENTAGE_LAST68\")\n).sort([\"DATE\", \"HOMETEAM\"])\n\n# Show the results\nst.dataframe(combined_rolling_stats.order_by(col(\"DATE\"), ascending=False).limit(100))\n\n#result.write.mode(\"overwrite\").save_as_table(\"TEAM_AVERAGES\")",
   "execution_count": null
  },
  {
   "cell_type": "code",
   "id": "52b2eb53-afde-4e04-8b9a-0bdb046e4a47",
   "metadata": {
    "language": "python",
    "name": "Feature_H2H_Specific_Teams",
    "collapsed": false
   },
   "outputs": [],
   "source": "def calc_h2h_opp_turf_specific_stats(df, num_matches=5):\n    # Create a window function to order matches by date for each home team against each away team\n    window = Window.partition_by(\"HOMETEAM\", \"AWAYTEAM\").order_by(\"DATE\")\n    \n    # Calculate match results\n    h2h_stats = df.with_columns([\n        \"WIN\", \"LOSS\", \"DRAW\", \"GOALS_FOR\", \"GOALS_AGAINST\"\n    ], [\n        when(col(\"FTR\") == \"H\", 1).otherwise(0),\n        when(col(\"FTR\") == \"A\", 1).otherwise(0),\n        when(col(\"FTR\") == \"D\", 1).otherwise(0),\n        col(\"FTHG\"),\n        col(\"FTAG\")\n    ])\n    \n    # Calculate rolling statistics\n    rolling_stats = h2h_stats.with_columns([\n        f\"WINS_LAST{num_matches}\", \n        f\"LOSSES_LAST{num_matches}\", \n        f\"DRAWS_LAST{num_matches}\", \n        f\"GOALS_FOR_LAST{num_matches}\", \n        f\"GOALS_AGAINST_LAST{num_matches}\"\n    ], [\n        sum_(\"WIN\").over(window.rows_between(-(num_matches-1), 0)),\n        sum_(\"LOSS\").over(window.rows_between(-(num_matches-1), 0)),\n        sum_(\"DRAW\").over(window.rows_between(-(num_matches-1), 0)),\n        sum_(\"GOALS_FOR\").over(window.rows_between(-(num_matches-1), 0)),\n        sum_(\"GOALS_AGAINST\").over(window.rows_between(-(num_matches-1), 0))\n    ])\n    \n    # Calculate win percentage\n    rolling_stats = rolling_stats.with_column(\n        f\"WIN_PERCENTAGE_LAST{num_matches}\",\n        col(f\"WINS_LAST{num_matches}\") / (col(f\"WINS_LAST{num_matches}\") + col(f\"LOSSES_LAST{num_matches}\") + col(f\"DRAWS_LAST{num_matches}\"))\n    )\n    \n    return rolling_stats\n\n# Calculate head-to-head stats for last 5 matches\nh2h_opp_turf_specific_stats_5 = calc_h2h_opp_turf_specific_stats(EREDIVISIE_HISTORY_df, 5)\n\n# Calculate head-to-head stats for last 10 matches\nh2h_opp_turf_specific_stats_10 = calc_h2h_opp_turf_specific_stats(EREDIVISIE_HISTORY_df, 10)\n\n# Combine the results into 1 table\nh2h_opp_turf_specific_stats = h2h_opp_turf_specific_stats_5.join(\n    h2h_opp_turf_specific_stats_10,\n    (h2h_opp_turf_specific_stats_5[\"HOMETEAM\"] == h2h_opp_turf_specific_stats_10[\"HOMETEAM\"]) & \n    (h2h_opp_turf_specific_stats_5[\"AWAYTEAM\"] == h2h_opp_turf_specific_stats_10[\"AWAYTEAM\"]) & \n    (h2h_opp_turf_specific_stats_5[\"DATE\"] == h2h_opp_turf_specific_stats_10[\"DATE\"]), \n    \"left\"\n).select(\n    h2h_opp_turf_specific_stats_5[\"DATE\"].alias(\"DATE\"),\n    h2h_opp_turf_specific_stats_5[\"SEASON\"].alias(\"SEASON\"),\n    h2h_opp_turf_specific_stats_5[\"HOMETEAM\"].alias(\"HOMETEAM\"),\n    h2h_opp_turf_specific_stats_5[\"AWAYTEAM\"].alias(\"AWAYTEAM\"),\n    h2h_opp_turf_specific_stats_5[\"WINS_LAST5\"].alias(\"H2H_HOME_WINS_LAST5\"),\n    h2h_opp_turf_specific_stats_5[\"LOSSES_LAST5\"].alias(\"H2H_HOME_LOSSES_LAST5\"),\n    h2h_opp_turf_specific_stats_5[\"DRAWS_LAST5\"].alias(\"H2H_HOME_DRAWS_LAST5\"),\n    h2h_opp_turf_specific_stats_5[\"GOALS_FOR_LAST5\"].alias(\"H2H_HOME_GOALS_FOR_LAST5\"),\n    h2h_opp_turf_specific_stats_5[\"GOALS_AGAINST_LAST5\"].alias(\"H2H_HOME_GOALS_AGAINST_LAST5\"),\n    h2h_opp_turf_specific_stats_5[\"WIN_PERCENTAGE_LAST5\"].alias(\"H2H_HOME_WIN_PERCENTAGE_LAST5\"),\n    h2h_opp_turf_specific_stats_10[\"WINS_LAST10\"].alias(\"H2H_HOME_WINS_LAST10\"),\n    h2h_opp_turf_specific_stats_10[\"LOSSES_LAST10\"].alias(\"H2H_HOME_LOSSES_LAST10\"),\n    h2h_opp_turf_specific_stats_10[\"DRAWS_LAST10\"].alias(\"H2H_HOME_DRAWS_LAST10\"),\n    h2h_opp_turf_specific_stats_10[\"GOALS_FOR_LAST10\"].alias(\"H2H_HOME_GOALS_FOR_LAST10\"),\n    h2h_opp_turf_specific_stats_10[\"GOALS_AGAINST_LAST10\"].alias(\"H2H_HOME_GOALS_AGAINST_LAST10\"),\n    h2h_opp_turf_specific_stats_10[\"WIN_PERCENTAGE_LAST10\"].alias(\"H2H_HOME_WIN_PERCENTAGE_LAST10\")\n).sort([\"DATE\", \"HOMETEAM\", \"AWAYTEAM\"])\n\n# Show the results\nst.text(\"\\n--- Head-to-Head Rolling Statistics ---\")\nst.dataframe(h2h_opp_turf_specific_stats.limit(10))\n\n# Count total number of rows\ntotal_rows = h2h_opp_turf_specific_stats.count()\nst.text(f\"\\nTotal number of matches: {total_rows}\")",
   "execution_count": null
  },
  {
   "cell_type": "code",
   "id": "dad4726d-0e21-4cf7-9f00-e6fe4b713a16",
   "metadata": {
    "language": "python",
    "name": "Feature_H2H_Check",
    "collapsed": false
   },
   "outputs": [],
   "source": "# Filter for matches between Go Ahead Eagles and Vitesse\ngae_vitesse_matches = EREDIVISIE_HISTORY_df.filter((col(\"HOMETEAM\") == \"Go Ahead Eagles\") & (col(\"AWAYTEAM\") == \"Vitesse\") |\n                                (col(\"HOMETEAM\") == \"Vitesse\") & (col(\"AWAYTEAM\") == \"Go Ahead Eagles\"))\n\n# Display the results\n# gae_vitesse_matches.sort(\"DATE\", \"HOMETEAM\").show(100)\n\n\n# Filter for matches between Go Ahead Eagles and Vitesse\ngae_vitesse_combined_h2h_stats = h2h_opp_turf_specific_stats.filter((col(\"HOMETEAM\") == \"Go Ahead Eagles\") & (col(\"AWAYTEAM\") == \"Vitesse\") |\n                                (col(\"HOMETEAM\") == \"Vitesse\") & (col(\"AWAYTEAM\") == \"Go Ahead Eagles\"))\n\n# Display the results\nst.dataframe(gae_vitesse_combined_h2h_stats.sort(\"DATE\", \"HOMETEAM\").limit(100))\n\n\n# Calculate some statistics\ntotal_matches = gae_vitesse_matches.count()\ngae_home_matches = gae_vitesse_matches.filter(col(\"HOMETEAM\") == \"Go Ahead Eagles\").count()\nvitesse_home_matches = gae_vitesse_matches.filter(col(\"HOMETEAM\") == \"Vitesse\").count()",
   "execution_count": null
  },
  {
   "cell_type": "code",
   "id": "55b6687b-2dc9-4548-b0c3-4e3bd4699f2f",
   "metadata": {
    "language": "python",
    "name": "Combine_Data",
    "collapsed": false,
    "codeCollapsed": false
   },
   "outputs": [],
   "source": "# Perform join #1, on the results of the last 30 and 60 matches \nEREDIVISIE_HISTORY_combined_1_df = EREDIVISIE_HISTORY_df.join(\n    combined_rolling_stats,[\"DATE\", \"SEASON\", \"HOMETEAM\"])\n\n# Perform join #2, on the results of the last matches against the specific opponents\nEREDIVISIE_HISTORY_combined_2_df = EREDIVISIE_HISTORY_combined_1_df.join(\n    h2h_opp_turf_specific_stats, [\"DATE\", \"SEASON\", \"HOMETEAM\", \"AWAYTEAM\"], \n    rsuffix=\"_right\")\n\n# Create a GAME_OUTCOME field based on FTR for later use\nEREDIVISIE_HISTORY_combined_2_df = EREDIVISIE_HISTORY_combined_2_df.with_columns(\n    [\"GAME_OUTCOME\"],\n    [when(col(\"FTR\") == \"D\", 0)\n     .when(col(\"FTR\") == \"H\", 1)\n     .when(col(\"FTR\") == \"A\", 2)\n     .otherwise(None)]  # This handles any unexpected values in FTR\n)\n\nprint(\"\\n--- EREDIVISIE_HISTORY_combined_2_df ---\")\nprint(\"Count:\", EREDIVISIE_HISTORY_combined_2_df.count())\nst.dataframe(EREDIVISIE_HISTORY_combined_2_df.sort(col(\"date\"), ascending=False).limit(50))",
   "execution_count": null
  },
  {
   "cell_type": "code",
   "id": "1ee7e720-c698-4980-baa4-372baa2a4488",
   "metadata": {
    "language": "python",
    "name": "Combine_Data_Save_To_Table",
    "collapsed": false
   },
   "outputs": [],
   "source": "EREDIVISIE_FEATURES_df = EREDIVISIE_HISTORY_combined_2_df.with_column('DATE', F.to_varchar(F.col('DATE'), 'YYYY-MM-DD'))\nEREDIVISIE_FEATURES_df.write.save_as_table(f'eredivisie_features', mode='overwrite')\n\nsession.table(f'eredivisie_features').sort(F.col('date'), ascending = False).limit(50)",
   "execution_count": null
  },
  {
   "cell_type": "markdown",
   "id": "f8f0ab6a-8b0b-4623-bb97-223d32ea5c00",
   "metadata": {
    "name": "_Transformation_Summary",
    "collapsed": false
   },
   "source": "Our final dataset contains the following features:\n\n| Feature                              | Description                                                                                             |\n|--------------------------------------|---------------------------------------------------------------------------------------------------------|\n| DATE                                 | The date of the match.                                                                                 |\n| SEASON                               | The season in which the match is played.                                                               |\n| HOMETEAM                             | The name of the home team.                                                                              |\n| AWAYTEAM                             | The name of the away team.                                                                              |\n| H2H_HOME_WINS_LAST5                 | Number of wins for the home team in the last 5 games against the opponent.                             |\n| H2H_HOME_LOSSES_LAST5               | Number of losses for the home team in the last 5 games against the opponent.                           |\n| H2H_HOME_DRAWS_LAST5                | Number of draws for the home team in the last 5 games against the opponent.                            |\n| H2H_HOME_GOALS_FOR_LAST5            | Total goals scored by the home team in the last 5 games against the opponent.                          |\n| H2H_HOME_GOALS_AGAINST_LAST5        | Total goals conceded by the home team in the last 5 games against the opponent.                        |\n| H2H_HOME_WIN_PERCENTAGE_LAST5       | Win percentage of the home team in the last 5 games against the opponent.                              |\n| H2H_HOME_WINS_LAST10                | Number of wins for the home team in the last 10 games against the opponent.                            |\n| H2H_HOME_LOSSES_LAST10              | Number of losses for the home team in the last 10 games against the opponent.                          |\n| H2H_HOME_DRAWS_LAST10               | Number of draws for the home team in the last 10 games against the opponent.                           |\n| H2H_HOME_GOALS_FOR_LAST10           | Total goals scored by the home team in the last 10 games against the opponent.                         |\n| H2H_HOME_GOALS_AGAINST_LAST10       | Total goals conceded by the home team in the last 10 games against the opponent.                       |\n| H2H_HOME_WIN_PERCENTAGE_LAST10      | Win percentage of the home team in the last 10 games against the opponent.                             |\n| HOME_WINS_LAST34                    | Number of wins for the home team in the last 34 games.                                                |\n| HOME_LOSSES_LAST34                  | Number of losses for the home team in the last 34 games.                                              |\n| HOME_DRAWS_LAST34                   | Number of draws for the home team in the last 34 games.                                               |\n| HOME_GOALS_FOR_LAST34               | Total goals scored by the home team in the last 34 games.                                             |\n| HOME_GOALS_AGAINST_LAST34           | Total goals conceded by the home team in the last 34 games.                                           |\n| HOME_WIN_PERCENTAGE_LAST34          | Win percentage of the home team in the last 34 games.                                                 |\n| HOME_WINS_LAST68                    | Number of wins for the home team in the last 68 games.                                                |\n| HOME_LOSSES_LAST68                  | Number of losses for the home team in the last 68 games.                                              |\n| HOME_DRAWS_LAST68                   | Number of draws for the home team in the last 68 games.                                               |\n| HOME_GOALS_FOR_LAST68               | Total goals scored by the home team in the last 68 games.                                             |\n| HOME_GOALS_AGAINST_LAST68           | Total goals conceded by the home team in the last 68 games.                                           |\n| HOME_WIN_PERCENTAGE_LAST68          | Win percentage of the home team in the last 68 games.                                                 |\n\n"
  }
 ]
}